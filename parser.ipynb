{
  "nbformat": 4,
  "nbformat_minor": 0,
  "metadata": {
    "colab": {
      "name": "parser.ipynb",
      "provenance": [],
      "collapsed_sections": []
    },
    "kernelspec": {
      "name": "python3",
      "display_name": "Python 3"
    },
    "language_info": {
      "name": "python"
    }
  },
  "cells": [
    {
      "cell_type": "code",
      "metadata": {
        "colab": {
          "base_uri": "https://localhost:8080/"
        },
        "id": "7nUnZ6BxqsGk",
        "outputId": "eee0398a-8d5f-4c17-c155-f5795741e594"
      },
      "source": [
        "from google.colab import drive\n",
        "drive.mount('/content/drive')"
      ],
      "execution_count": null,
      "outputs": [
        {
          "output_type": "stream",
          "name": "stdout",
          "text": [
            "Mounted at /content/drive\n"
          ]
        }
      ]
    },
    {
      "cell_type": "code",
      "metadata": {
        "colab": {
          "base_uri": "https://localhost:8080/"
        },
        "id": "NFOy6R2YkPrD",
        "outputId": "6070d810-e1d6-4da9-c191-4f48ea943723"
      },
      "source": [
        "!pip install beautifulsoup4 \n",
        "!pip install requests"
      ],
      "execution_count": null,
      "outputs": [
        {
          "output_type": "stream",
          "name": "stdout",
          "text": [
            "Requirement already satisfied: beautifulsoup4 in /usr/local/lib/python3.7/dist-packages (4.6.3)\n",
            "Requirement already satisfied: requests in /usr/local/lib/python3.7/dist-packages (2.23.0)\n",
            "Requirement already satisfied: chardet<4,>=3.0.2 in /usr/local/lib/python3.7/dist-packages (from requests) (3.0.4)\n",
            "Requirement already satisfied: certifi>=2017.4.17 in /usr/local/lib/python3.7/dist-packages (from requests) (2021.10.8)\n",
            "Requirement already satisfied: urllib3!=1.25.0,!=1.25.1,<1.26,>=1.21.1 in /usr/local/lib/python3.7/dist-packages (from requests) (1.24.3)\n",
            "Requirement already satisfied: idna<3,>=2.5 in /usr/local/lib/python3.7/dist-packages (from requests) (2.10)\n"
          ]
        }
      ]
    },
    {
      "cell_type": "code",
      "metadata": {
        "id": "UE1Uxud2khlF"
      },
      "source": [
        "from bs4 import BeautifulSoup\n",
        "import requests"
      ],
      "execution_count": null,
      "outputs": []
    },
    {
      "cell_type": "code",
      "metadata": {
        "id": "BlOHZ2ctbJKE"
      },
      "source": [
        "base_url = 'https://2ip.ru/isp-rating/ru/%D0%9C%D0%BE%D1%81%D0%BA%D0%B2%D0%B0/'\n",
        "response = requests.get(base_url)\n",
        "base_soup = BeautifulSoup(response.text, \"html.parser\")\n",
        "\n",
        "pages_count = int(base_soup.find_all('li', class_='pagination__item')[-2].text.strip())"
      ],
      "execution_count": null,
      "outputs": []
    },
    {
      "cell_type": "code",
      "metadata": {
        "id": "yzKwglJIkj_B"
      },
      "source": [
        "url_part1 = 'https://2ip.ru/isp-rating/ru/%D0%9C%D0%BE%D1%81%D0%BA%D0%B2%D0%B0/?pageId='\n",
        "url_part2 = '&orderBy=ratingPlace&itemPerPage=30&direction=1'\n",
        "response = requests.get(base_url)"
      ],
      "execution_count": null,
      "outputs": []
    },
    {
      "cell_type": "code",
      "metadata": {
        "id": "9KAB5Xu9b89b"
      },
      "source": [
        "names = []\n",
        "positions = []\n",
        "rates = []\n",
        "urls = []\n",
        "\n",
        "\n",
        "for i in range(1, pages_count + 1):\n",
        "    url = url_part1 + str(i) + url_part2\n",
        "    response = requests.get(url)\n",
        "    soup = BeautifulSoup(response.text, \"html.parser\")\n",
        "\n",
        "    provs = soup.find_all('tr', class_='top')\n",
        "\n",
        "    for p in provs:\n",
        "        try:\n",
        "            name = p.find('td', class_='name').find('a').text\n",
        "        except:\n",
        "            name = p.find('td', class_='name').text\n",
        "        position = int(p.find('td', class_='number').text)\n",
        "        rate = float(p.find_all('td')[2].text)\n",
        "\n",
        "        r_count = p.find_all('td')[3].find_all('a')[0].text\n",
        "\n",
        "        if r_count == '0':\n",
        "            continue\n",
        "        \n",
        "        url_ = p.find_all('td')[3].find_all('a')[0].get('href')\n",
        "\n",
        "        names.append(name.strip())\n",
        "        positions.append(position)\n",
        "        rates.append(rate)\n",
        "        urls.append(url_)"
      ],
      "execution_count": null,
      "outputs": []
    },
    {
      "cell_type": "code",
      "metadata": {
        "colab": {
          "base_uri": "https://localhost:8080/"
        },
        "id": "bz1he_0yqIve",
        "outputId": "9a741ab3-0ad0-4575-b710-e0eef23dedfd"
      },
      "source": [
        "!pip install pandas"
      ],
      "execution_count": null,
      "outputs": [
        {
          "output_type": "stream",
          "name": "stdout",
          "text": [
            "Requirement already satisfied: pandas in /usr/local/lib/python3.7/dist-packages (1.1.5)\n",
            "Requirement already satisfied: python-dateutil>=2.7.3 in /usr/local/lib/python3.7/dist-packages (from pandas) (2.8.2)\n",
            "Requirement already satisfied: pytz>=2017.2 in /usr/local/lib/python3.7/dist-packages (from pandas) (2018.9)\n",
            "Requirement already satisfied: numpy>=1.15.4 in /usr/local/lib/python3.7/dist-packages (from pandas) (1.19.5)\n",
            "Requirement already satisfied: six>=1.5 in /usr/local/lib/python3.7/dist-packages (from python-dateutil>=2.7.3->pandas) (1.15.0)\n"
          ]
        }
      ]
    },
    {
      "cell_type": "code",
      "metadata": {
        "id": "DqadGmquqLTZ"
      },
      "source": [
        "import pandas as pd"
      ],
      "execution_count": null,
      "outputs": []
    },
    {
      "cell_type": "code",
      "metadata": {
        "id": "z4FXSZE2m-mD"
      },
      "source": [
        "from datetime import datetime"
      ],
      "execution_count": null,
      "outputs": []
    },
    {
      "cell_type": "code",
      "metadata": {
        "id": "vI4Y1DbnrX-E"
      },
      "source": [
        "# Парсинг отзывов по провайдерам\n",
        "providers = []\n",
        "revs = []\n",
        "\n",
        "_url1 = '/?pageId='\n",
        "_url2 = '&orderBy=id&itemPerPage=10'\n",
        "\n",
        "for i in range(len(urls)):\n",
        "    resp = requests.get(urls[i])\n",
        "    soup = BeautifulSoup(resp.text, \"html.parser\")\n",
        "    pages = soup.find_all('li', class_='pagination__item')\n",
        "\n",
        "    if len(pages) > 1:\n",
        "        p_count = int(pages[-2].text.strip())\n",
        "    else:\n",
        "        p_count = 1\n",
        "\n",
        "    if p_count > 1000:\n",
        "        continue\n",
        "    \n",
        "    for j in range(1, p_count + 1):\n",
        "        resp = requests.get(urls[i] + _url1 + str(j) + _url2)\n",
        "        rev_soup = BeautifulSoup(resp.text, \"html.parser\")\n",
        "\n",
        "        reviews = rev_soup.find_all('div', class_='reviewItem__inner')\n",
        "        for r in reviews:\n",
        "            if names[i] != r.find('div', class_='reviewItem__provider').text.strip():\n",
        "                break\n",
        "\n",
        "            name = names[i]\n",
        "            review = r.find('p', class_='reviewItem__txt').text.strip()\n",
        "\n",
        "            providers.append(name)\n",
        "            revs.append(review)"
      ],
      "execution_count": null,
      "outputs": []
    },
    {
      "cell_type": "code",
      "metadata": {
        "id": "gszuu5xitigW"
      },
      "source": [
        "reviews_data = {\n",
        "    'Provider': providers,\n",
        "    'Review': revs,\n",
        "    # 'Date': dates\n",
        "}\n",
        "\n",
        "revs_df = pd.DataFrame(reviews_data)"
      ],
      "execution_count": null,
      "outputs": []
    },
    {
      "cell_type": "code",
      "metadata": {
        "id": "VsGZe-hGF-Y1"
      },
      "source": [
        "revs_df.to_csv('drive/MyDrive/labs/reviews.csv', index=False)"
      ],
      "execution_count": null,
      "outputs": []
    },
    {
      "cell_type": "code",
      "metadata": {
        "id": "4WNGfsEUo-VN"
      },
      "source": [
        "for name in names:\n",
        "    if not name in providers:\n",
        "        i = names.index(name)\n",
        "        names.remove(names[i])\n",
        "        positions.remove(positions[i])\n",
        "        rates.remove(rates[i])\n",
        "\n",
        "data = {\n",
        "    'Provider': names,\n",
        "    'Position': positions,\n",
        "    'Rating': rates\n",
        "}\n",
        "\n",
        "prov_df = pd.DataFrame(data)"
      ],
      "execution_count": null,
      "outputs": []
    },
    {
      "cell_type": "code",
      "metadata": {
        "id": "edrYv8XTqRK8"
      },
      "source": [
        "prov_df.to_csv('drive/MyDrive/labs/providers.csv', index=False)"
      ],
      "execution_count": null,
      "outputs": []
    }
  ]
}